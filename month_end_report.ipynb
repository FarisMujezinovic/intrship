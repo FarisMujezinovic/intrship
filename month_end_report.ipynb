{
 "cells": [
  {
   "cell_type": "markdown",
   "id": "7aea274c",
   "metadata": {},
   "source": [
    "This notebook generates a report that finds latest file delivered for each file type"
   ]
  },
  {
   "cell_type": "code",
   "execution_count": 1,
   "id": "7a8d9f83-fb66-4b08-8adc-131e94f00a6f",
   "metadata": {},
   "outputs": [],
   "source": [
    "from pyspark.sql import SparkSession\n",
    "from pyspark.sql.window import Window as W\n",
    "import pyspark.sql.functions as F"
   ]
  },
  {
   "cell_type": "code",
   "execution_count": 2,
   "id": "371af75d-36f3-4306-8009-a6ac7796724d",
   "metadata": {},
   "outputs": [],
   "source": [
    "spark = SparkSession.builder.getOrCreate()"
   ]
  },
  {
   "cell_type": "code",
   "execution_count": 3,
   "id": "b9eb90a5-8d4b-488e-ace6-5c47e5c0955a",
   "metadata": {},
   "outputs": [
    {
     "name": "stdout",
     "output_type": "stream",
     "text": [
      "+----------+-----------------------+---------+------------------+\n",
      "|AR1 Date  |filename               |file_type|date_from_filename|\n",
      "+----------+-----------------------+---------+------------------+\n",
      "|2024-01-15|ab_borrower_3dfk761.csv|borrower |2024-01-31        |\n",
      "|2024-01-31|ab_borrower_3m12m.csv  |borrower |2024-01-31        |\n",
      "|2024-01-31|ab_borrower_45o1ka.csv |borrower |2024-02-05        |\n",
      "|2024-01-31|ab_pipeline_3m12m.csv  |pipeline |2024-02-03        |\n",
      "|2024-02-29|ab_borrower_1m12m.csv  |borrower |2024-03-02        |\n",
      "|2024-02-29|ab_borrower_ga5o1ka.csv|borrower |2024-03-12        |\n",
      "+----------+-----------------------+---------+------------------+\n",
      "\n"
     ]
    }
   ],
   "source": [
    "data = (\n",
    "    (\"2024-01-15\", \"ab_borrower_3dfk761.csv\", \"borrower\", \"2024-01-31\"),\n",
    "    (\"2024-01-31\", \"ab_borrower_3m12m.csv\", \"borrower\", \"2024-01-31\"),\n",
    "    (\"2024-01-31\", \"ab_borrower_45o1ka.csv\", \"borrower\", \"2024-02-05\"),\n",
    "    (\"2024-01-31\", \"ab_pipeline_3m12m.csv\", \"pipeline\", \"2024-02-03\"),\n",
    "    (\"2024-02-29\", \"ab_borrower_1m12m.csv\", \"borrower\", \"2024-03-02\"),\n",
    "    (\"2024-02-29\", \"ab_borrower_ga5o1ka.csv\", \"borrower\", \"2024-03-12\")\n",
    ")\n",
    "\n",
    "columns = [\"AR1 Date\", \"filename\", \"file_type\", \"date_from_filename\"]\n",
    "\n",
    "month_end_report = spark.createDataFrame(data = data, schema = columns)\n",
    "month_end_report.show(truncate=False)"
   ]
  },
  {
   "cell_type": "code",
   "execution_count": 13,
   "id": "042dd9b1-b137-4dc5-bebb-f96886b6d9c2",
   "metadata": {},
   "outputs": [],
   "source": [
    "month_end_report = (\n",
    "         month_end_report\n",
    "         .withColumn(\"AR1 Date\",\n",
    "                     F.to_date(F.col(\"AR1 Date\"),\n",
    "                                           \"yyyy-MM-dd\"))\n",
    ")\n",
    "month_end_report = (\n",
    "    month_end_report\n",
    "    .withColumn (\"date_from_filename\",\n",
    "                 F.to_date(F.col(\"date_from_filename\"),\n",
    "                                                \"yyyy-MM-dd\"))\n",
    ")"
   ]
  },
  {
   "cell_type": "code",
   "execution_count": 5,
   "id": "65e58ff3-611e-42ef-be04-da0327f4c71d",
   "metadata": {},
   "outputs": [
    {
     "name": "stdout",
     "output_type": "stream",
     "text": [
      "+----------+-----------------------+---------+------------------+-----------------+\n",
      "|AR1 Date  |filename               |file_type|date_from_filename|last_day_of_month|\n",
      "+----------+-----------------------+---------+------------------+-----------------+\n",
      "|2024-01-31|ab_borrower_3m12m.csv  |borrower |2024-01-31        |2024-01-31       |\n",
      "|2024-01-31|ab_borrower_45o1ka.csv |borrower |2024-02-05        |2024-01-31       |\n",
      "|2024-01-31|ab_pipeline_3m12m.csv  |pipeline |2024-02-03        |2024-01-31       |\n",
      "|2024-02-29|ab_borrower_1m12m.csv  |borrower |2024-03-02        |2024-02-29       |\n",
      "|2024-02-29|ab_borrower_ga5o1ka.csv|borrower |2024-03-12        |2024-02-29       |\n",
      "+----------+-----------------------+---------+------------------+-----------------+\n",
      "\n"
     ]
    }
   ],
   "source": [
    "#For each month and each file type, check if there are rows in the input where AR1 Date equals the last day of that month.\n",
    "#From all those rows, take the most recent one.\n",
    "\n",
    "last_day = month_end_report.withColumn(\"last_day_of_month\", F.last_day(F.col(\"AR1 Date\")))\n",
    "rows_last_day = last_day.filter(F.col(\"AR1 Date\") == F.col(\"last_day_of_month\"))\n",
    "rows_last_day.show(truncate=False)"
   ]
  },
  {
   "cell_type": "code",
   "execution_count": 6,
   "id": "1a6d614e-f3f2-485e-bc43-325fed6cd23f",
   "metadata": {},
   "outputs": [
    {
     "name": "stdout",
     "output_type": "stream",
     "text": [
      "+----------+-----------------------+---------+------------------+-----------------+--------------------+\n",
      "|AR1 Date  |filename               |file_type|date_from_filename|last_day_of_month|filename_arrival_seq|\n",
      "+----------+-----------------------+---------+------------------+-----------------+--------------------+\n",
      "|2024-01-31|ab_borrower_45o1ka.csv |borrower |2024-02-05        |2024-01-31       |1                   |\n",
      "|2024-01-31|ab_borrower_3m12m.csv  |borrower |2024-01-31        |2024-01-31       |2                   |\n",
      "|2024-01-31|ab_pipeline_3m12m.csv  |pipeline |2024-02-03        |2024-01-31       |1                   |\n",
      "|2024-02-29|ab_borrower_ga5o1ka.csv|borrower |2024-03-12        |2024-02-29       |1                   |\n",
      "|2024-02-29|ab_borrower_1m12m.csv  |borrower |2024-03-02        |2024-02-29       |2                   |\n",
      "+----------+-----------------------+---------+------------------+-----------------+--------------------+\n",
      "\n"
     ]
    }
   ],
   "source": [
    "AR1 = (\n",
    "    W\n",
    "    .partitionBy(\"AR1 Date\", \"file_type\")\n",
    "    .orderBy (F.col(\"date_from_filename\")\n",
    "    .desc())\n",
    ")\n",
    "sorted_df = rows_last_day.withColumn (\"filename_arrival_seq\", F.row_number().over(AR1))\n",
    "sorted_df.show(truncate=False)"
   ]
  },
  {
   "cell_type": "code",
   "execution_count": 7,
   "id": "6c79f503-a7dd-45a6-a884-21a91c0a59ac",
   "metadata": {},
   "outputs": [
    {
     "name": "stdout",
     "output_type": "stream",
     "text": [
      "+----------+--------------------+---------+------------------+-----------------+--------------------+\n",
      "|  AR1 Date|            filename|file_type|date_from_filename|last_day_of_month|filename_arrival_seq|\n",
      "+----------+--------------------+---------+------------------+-----------------+--------------------+\n",
      "|2024-01-31|ab_borrower_45o1k...| borrower|        2024-02-05|       2024-01-31|                   1|\n",
      "|2024-01-31|ab_pipeline_3m12m...| pipeline|        2024-02-03|       2024-01-31|                   1|\n",
      "|2024-02-29|ab_borrower_ga5o1...| borrower|        2024-03-12|       2024-02-29|                   1|\n",
      "+----------+--------------------+---------+------------------+-----------------+--------------------+\n",
      "\n"
     ]
    }
   ],
   "source": [
    "current_state = sorted_df.where (F.col(\"filename_arrival_seq\") == 1)\n",
    "current_state.show()"
   ]
  },
  {
   "cell_type": "code",
   "execution_count": 24,
   "id": "019c3005-6c9e-404c-9937-4cb4722f0fac",
   "metadata": {},
   "outputs": [],
   "source": [
    "from datetime import datetime, timedelta\n",
    "import dateutil.relativedelta\n",
    "\n",
    "today = datetime.now() - dateutil.relativedelta.relativedelta(months=5)\n",
    "fmt = \"%Y-%m\"\n",
    "\n",
    "expected_dates = [\n",
    "    today.strftime (fmt),\n",
    "    (today - dateutil.relativedelta.relativedelta(months=1)).strftime (fmt),\n",
    "    (today - dateutil.relativedelta.relativedelta(months=2)).strftime (fmt)\n",
    "]\n",
    "expected_file_types = [\"borrower\", \"pipeline\"]"
   ]
  },
  {
   "cell_type": "code",
   "execution_count": 25,
   "id": "a7aeb11f-050c-47d5-a6fc-1c38f2e94b73",
   "metadata": {},
   "outputs": [
    {
     "data": {
      "text/plain": [
       "[('2024-02', 'borrower'),\n",
       " ('2024-02', 'pipeline'),\n",
       " ('2024-01', 'borrower'),\n",
       " ('2024-01', 'pipeline'),\n",
       " ('2023-12', 'borrower'),\n",
       " ('2023-12', 'pipeline')]"
      ]
     },
     "execution_count": 25,
     "metadata": {},
     "output_type": "execute_result"
    }
   ],
   "source": [
    "\n",
    "expected_data = []\n",
    "for n in expected_dates:\n",
    "    for file_type in expected_file_types:\n",
    "        expected_data.append(\n",
    "            (n, file_type)\n",
    "        )\n",
    "expected_data"
   ]
  },
  {
   "cell_type": "code",
   "execution_count": 26,
   "id": "42710619-d9fa-4817-ad4a-c19a9aac9b65",
   "metadata": {},
   "outputs": [
    {
     "name": "stdout",
     "output_type": "stream",
     "text": [
      "+--------------+---------+\n",
      "|Relevant Month|file_type|\n",
      "+--------------+---------+\n",
      "|       2024-02| borrower|\n",
      "|       2024-02| pipeline|\n",
      "|       2024-01| borrower|\n",
      "|       2024-01| pipeline|\n",
      "|       2023-12| borrower|\n",
      "|       2023-12| pipeline|\n",
      "+--------------+---------+\n",
      "\n"
     ]
    }
   ],
   "source": [
    "columns = [\"Relevant Month\", \"file_type\"]\n",
    "expected = spark.createDataFrame(data = expected_data, schema = columns)\n",
    "expected.show()"
   ]
  },
  {
   "cell_type": "code",
   "execution_count": 27,
   "id": "1af4e1cc-973e-4b43-939b-972bf794052c",
   "metadata": {},
   "outputs": [
    {
     "name": "stdout",
     "output_type": "stream",
     "text": [
      "+--------------+--------------------+---------+------------------+-----------------+--------------------+\n",
      "|Relevant Month|            filename|file_type|date_from_filename|last_day_of_month|filename_arrival_seq|\n",
      "+--------------+--------------------+---------+------------------+-----------------+--------------------+\n",
      "|       2024-01|ab_borrower_45o1k...| borrower|        2024-02-05|       2024-01-31|                   1|\n",
      "|       2024-01|ab_pipeline_3m12m...| pipeline|        2024-02-03|       2024-01-31|                   1|\n",
      "|       2024-02|ab_borrower_ga5o1...| borrower|        2024-03-12|       2024-02-29|                   1|\n",
      "+--------------+--------------------+---------+------------------+-----------------+--------------------+\n",
      "\n"
     ]
    }
   ],
   "source": [
    "current_state = current_state.withColumnRenamed (\"AR1 Date\", \"Relevant Month\")\n",
    "current_state = current_state.withColumn(\"Relevant Month\", F.date_format (\"Relevant Month\", \"yyyy-MM\"))\n",
    "current_state.show()"
   ]
  },
  {
   "cell_type": "code",
   "execution_count": 28,
   "id": "f036f7e7-d04d-4b57-ad9d-4f513badeb6d",
   "metadata": {},
   "outputs": [
    {
     "name": "stdout",
     "output_type": "stream",
     "text": [
      "+---------+--------------+--------------------+------------------+-----------------+--------------------+\n",
      "|file_type|Relevant Month|            filename|date_from_filename|last_day_of_month|filename_arrival_seq|\n",
      "+---------+--------------+--------------------+------------------+-----------------+--------------------+\n",
      "| borrower|       2023-12|                NULL|              NULL|             NULL|                NULL|\n",
      "| pipeline|       2023-12|                NULL|              NULL|             NULL|                NULL|\n",
      "| borrower|       2024-01|ab_borrower_45o1k...|        2024-02-05|       2024-01-31|                   1|\n",
      "| pipeline|       2024-01|ab_pipeline_3m12m...|        2024-02-03|       2024-01-31|                   1|\n",
      "| borrower|       2024-02|ab_borrower_ga5o1...|        2024-03-12|       2024-02-29|                   1|\n",
      "| pipeline|       2024-02|                NULL|              NULL|             NULL|                NULL|\n",
      "+---------+--------------+--------------------+------------------+-----------------+--------------------+\n",
      "\n"
     ]
    }
   ],
   "source": [
    "final = expected.join (\n",
    "    current_state,\n",
    "    on = [\"file_type\", \"Relevant Month\"],\n",
    "    how = \"left\"\n",
    ")\n",
    "final = final.sort (\"Relevant Month\")\n",
    "final.show()"
   ]
  }
 ],
 "metadata": {
  "kernelspec": {
   "display_name": "Python 3 (ipykernel)",
   "language": "python",
   "name": "python3"
  },
  "language_info": {
   "codemirror_mode": {
    "name": "ipython",
    "version": 3
   },
   "file_extension": ".py",
   "mimetype": "text/x-python",
   "name": "python",
   "nbconvert_exporter": "python",
   "pygments_lexer": "ipython3",
   "version": "3.11.6"
  }
 },
 "nbformat": 4,
 "nbformat_minor": 5
}
