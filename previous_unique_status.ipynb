{
 "cells": [
  {
   "cell_type": "markdown",
   "id": "5a1329d2",
   "metadata": {},
   "source": [
    "Your goal is to add a new column, previous_status, to this dataset. This new column should contain the last unique status of the mortgage prior to the current status, ignoring any repeated statuses from previous days"
   ]
  },
  {
   "cell_type": "code",
   "execution_count": 7,
   "id": "cb15ea72-5876-4d41-9f2d-88d990945a94",
   "metadata": {},
   "outputs": [
    {
     "name": "stdout",
     "output_type": "stream",
     "text": [
      "+-----------+---------+----------+\n",
      "|mortgage_id|   status|      date|\n",
      "+-----------+---------+----------+\n",
      "|          A|pre-offer|2024-01-01|\n",
      "|          A| canceled|2024-01-02|\n",
      "|          A| canceled|2024-01-03|\n",
      "|          A|pre-offer|2024-01-04|\n",
      "|          A|pre-offer|2024-01-05|\n",
      "|          B|pre-offer|2024-01-01|\n",
      "|          B| accepted|2024-01-02|\n",
      "+-----------+---------+----------+\n",
      "\n"
     ]
    }
   ],
   "source": [
    "from pyspark.sql import SparkSession\n",
    "import pyspark.sql.functions as F\n",
    "from pyspark.sql.window import Window as W\n",
    "\n",
    "spark=SparkSession.builder.getOrCreate()\n",
    "\n",
    "\n",
    "data=(\n",
    "    (\"A\",\"pre-offer\", \"2024-01-01\"),\n",
    "    (\"A\",\"canceled\",\"2024-01-02\"),\n",
    "    (\"A\", \"canceled\",\"2024-01-03\"),\n",
    "    (\"A\",\"pre-offer\",\"2024-01-04\"),\n",
    "    (\"A\",\"pre-offer\",\"2024-01-05\"),\n",
    "    (\"B\",\"pre-offer\",\"2024-01-01\"),\n",
    "    (\"B\",\"accepted\", \"2024-01-02\")\n",
    ")\n",
    "columns = [\"mortgage_id\", \"status\", \"date\"]\n",
    "previous_unique_status = spark.createDataFrame (data = data, schema= columns)\n",
    "previous_unique_status. show ()\n",
    "    "
   ]
  },
  {
   "cell_type": "code",
   "execution_count": 8,
   "id": "66186ee9-1a4f-4fda-9d80-f16e4029b701",
   "metadata": {},
   "outputs": [
    {
     "name": "stdout",
     "output_type": "stream",
     "text": [
      "+-----------+---------+----------+---------+\n",
      "|mortgage_id|   status|      date|   before|\n",
      "+-----------+---------+----------+---------+\n",
      "|          A|pre-offer|2024-01-01|     NULL|\n",
      "|          A| canceled|2024-01-02|pre-offer|\n",
      "|          A| canceled|2024-01-03| canceled|\n",
      "|          A|pre-offer|2024-01-04| canceled|\n",
      "|          A|pre-offer|2024-01-05|pre-offer|\n",
      "|          B|pre-offer|2024-01-01|     NULL|\n",
      "|          B| accepted|2024-01-02|pre-offer|\n",
      "+-----------+---------+----------+---------+\n",
      "\n"
     ]
    }
   ],
   "source": [
    "changes=(\n",
    "    W\n",
    "    .partitionBy(\"mortgage_id\")\n",
    "    .orderBy(\"date\"))\n",
    "\n",
    "status_changes=previous_unique_status.withColumn(\"before\",F.lag(\"status\").over(changes))\n",
    "status_changes.show()\n"
   ]
  },
  {
   "cell_type": "code",
   "execution_count": 9,
   "id": "77dfdffa-f134-4cbb-bde8-6397c36a5486",
   "metadata": {},
   "outputs": [
    {
     "name": "stdout",
     "output_type": "stream",
     "text": [
      "+-----------+---------+----------+---------+-------------------+\n",
      "|mortgage_id|   status|      date|   before|data_status_changed|\n",
      "+-----------+---------+----------+---------+-------------------+\n",
      "|          A| canceled|2024-01-02|pre-offer|         2024-01-02|\n",
      "|          A|pre-offer|2024-01-04| canceled|         2024-01-04|\n",
      "|          B| accepted|2024-01-02|pre-offer|         2024-01-02|\n",
      "+-----------+---------+----------+---------+-------------------+\n",
      "\n"
     ]
    }
   ],
   "source": [
    "previous_unique=(\n",
    "   status_changes\n",
    "    .where(F.col(\"status\")!=F.col(\"before\"))\n",
    "    .withColumn(\"data_status_changed\",F.col(\"date\"))\n",
    ")\n",
    "previous_unique.show()"
   ]
  },
  {
   "cell_type": "code",
   "execution_count": 14,
   "id": "be7d313d-fb6e-43d1-8967-4755d5e2eb5e",
   "metadata": {},
   "outputs": [
    {
     "name": "stdout",
     "output_type": "stream",
     "text": [
      "+-----------+----------+---------+---------+-------------------+-----------+\n",
      "|mortgage_id|      date|   status|   before|data_status_changed|prev_status|\n",
      "+-----------+----------+---------+---------+-------------------+-----------+\n",
      "|          A|2024-01-01|pre-offer|     NULL|               NULL|   canceled|\n",
      "|          A|2024-01-02| canceled|pre-offer|         2024-01-02|  pre-offer|\n",
      "|          A|2024-01-03| canceled|     NULL|               NULL|  pre-offer|\n",
      "|          A|2024-01-04|pre-offer| canceled|         2024-01-04|   canceled|\n",
      "|          A|2024-01-05|pre-offer|     NULL|               NULL|   canceled|\n",
      "|          B|2024-01-01|pre-offer|     NULL|               NULL|       NULL|\n",
      "|          B|2024-01-02| accepted|pre-offer|         2024-01-02|  pre-offer|\n",
      "+-----------+----------+---------+---------+-------------------+-----------+\n",
      "\n"
     ]
    }
   ],
   "source": [
    "windowed_status=W.partitionBy(\"mortgage_id\",\"status\")\n",
    "before=(\n",
    "    previous_unique_status\n",
    "    .join(previous_unique.drop(\"status\") ,on=[\"mortgage_id\",\"date\"],how=\"left\")\n",
    "    .withColumn(\"prev_status\",F.max(\"before\").over(windowed_status))\n",
    "    .orderBy(\"mortgage_id\",\"date\")\n",
    ")\n",
    "before.show()"
   ]
  },
  {
   "cell_type": "code",
   "execution_count": 16,
   "id": "f6a0b87d-2a3f-4e4c-8710-be92f09efb12",
   "metadata": {},
   "outputs": [
    {
     "name": "stdout",
     "output_type": "stream",
     "text": [
      "+-----------+---------+-----------+----------+-------------------+\n",
      "|mortgage_id|   status|prev_status|      date|data_status_changed|\n",
      "+-----------+---------+-----------+----------+-------------------+\n",
      "|          A|pre-offer|   canceled|2024-01-01|               NULL|\n",
      "|          A| canceled|  pre-offer|2024-01-02|         2024-01-02|\n",
      "|          A| canceled|  pre-offer|2024-01-03|               NULL|\n",
      "|          A|pre-offer|   canceled|2024-01-04|         2024-01-04|\n",
      "|          A|pre-offer|   canceled|2024-01-05|               NULL|\n",
      "|          B|pre-offer|       NULL|2024-01-01|               NULL|\n",
      "|          B| accepted|  pre-offer|2024-01-02|         2024-01-02|\n",
      "+-----------+---------+-----------+----------+-------------------+\n",
      "\n"
     ]
    }
   ],
   "source": [
    "data_status_changed=before.select(\"mortgage_id\",\"status\",\"prev_status\",\"date\",\"data_status_changed\")\n",
    "data_status_changed.show()"
   ]
  },
  {
   "cell_type": "code",
   "execution_count": 21,
   "id": "42450fd3-b5ca-43fd-9fac-54afd80b370a",
   "metadata": {},
   "outputs": [
    {
     "name": "stdout",
     "output_type": "stream",
     "text": [
      "+-----------+-------------------+---------+----------+---------+---------+-----------+----------+\n",
      "|mortgage_id|data_status_changed|   status|      date|   before|   status|prev_status|      date|\n",
      "+-----------+-------------------+---------+----------+---------+---------+-----------+----------+\n",
      "|          A|         2024-01-02| canceled|2024-01-02|pre-offer| canceled|  pre-offer|2024-01-02|\n",
      "|          A|         2024-01-04|pre-offer|2024-01-04| canceled|pre-offer|   canceled|2024-01-04|\n",
      "|          B|         2024-01-02| accepted|2024-01-02|pre-offer| accepted|  pre-offer|2024-01-02|\n",
      "+-----------+-------------------+---------+----------+---------+---------+-----------+----------+\n",
      "\n"
     ]
    }
   ],
   "source": [
    "final=(\n",
    "    previous_unique\n",
    "    .join(data_status_changed,on=[\"mortgage_id\",\"data_status_changed\"],how=\"inner\")\n",
    "    .show()\n",
    ")"
   ]
  }
 ],
 "metadata": {
  "kernelspec": {
   "display_name": "Python 3 (ipykernel)",
   "language": "python",
   "name": "python3"
  },
  "language_info": {
   "codemirror_mode": {
    "name": "ipython",
    "version": 3
   },
   "file_extension": ".py",
   "mimetype": "text/x-python",
   "name": "python",
   "nbconvert_exporter": "python",
   "pygments_lexer": "ipython3",
   "version": "3.11.6"
  }
 },
 "nbformat": 4,
 "nbformat_minor": 5
}
