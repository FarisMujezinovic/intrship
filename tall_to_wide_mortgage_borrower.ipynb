{
 "cells": [
  {
   "cell_type": "markdown",
   "id": "ff273940",
   "metadata": {},
   "source": [
    "The goal of this task is to generate a report that ranks borrowers associated with each mortgage based on their age, and then create a wide-format dataset where each mortgage lists its borrowers in order of their age."
   ]
  },
  {
   "cell_type": "code",
   "execution_count": 19,
   "id": "7a596312-ee3d-49d8-97c0-5c6aa9afdadc",
   "metadata": {},
   "outputs": [
    {
     "name": "stdout",
     "output_type": "stream",
     "text": [
      "+-----------+-----------+-------------+------------+\n",
      "|Mortgage ID|Borrower ID|Borrower Name|Borrower DOB|\n",
      "+-----------+-----------+-------------+------------+\n",
      "|          1|          2|          AAA|  1900-01-01|\n",
      "|          1|          1|          BBB|  1900-05-01|\n",
      "|          2|          3|          DDD|  1950-10-20|\n",
      "+-----------+-----------+-------------+------------+\n",
      "\n"
     ]
    }
   ],
   "source": [
    "from pyspark.sql import SparkSession\n",
    "import pyspark.sql.functions as F\n",
    "from pyspark.sql.window import Window\n",
    "\n",
    "spark = ( \n",
    "    SparkSession.builder \n",
    "    .appName(\"Mortgage Analysis\") \n",
    "    .getOrCreate() \n",
    ")\n",
    "\n",
    "\n",
    "data = [\n",
    "    (1, 2, \"AAA\", \"1900-01-01\"),\n",
    "    (1, 1, \"BBB\", \"1900-05-01\"),\n",
    "    (2, 3, \"DDD\", \"1950-10-20\")\n",
    "]\n",
    "\n",
    "borrower_dob = spark.createDataFrame(data, [\"Mortgage ID\", \"Borrower ID\", \"Borrower Name\", \"Borrower DOB\"])\n",
    "borrower_dob.show()\n"
   ]
  },
  {
   "cell_type": "code",
   "execution_count": 20,
   "id": "94521815-87da-4fb8-8fe4-72be89b40ae4",
   "metadata": {},
   "outputs": [
    {
     "name": "stdout",
     "output_type": "stream",
     "text": [
      "+-----------+-----------+-------------+------------+-----------------+\n",
      "|Mortgage ID|Borrower ID|Borrower Name|Borrower DOB|Borrower sequence|\n",
      "+-----------+-----------+-------------+------------+-----------------+\n",
      "|          1|          2|          AAA|  1900-01-01|                1|\n",
      "|          1|          1|          BBB|  1900-05-01|                2|\n",
      "|          2|          3|          DDD|  1950-10-20|                1|\n",
      "+-----------+-----------+-------------+------------+-----------------+\n",
      "\n"
     ]
    }
   ],
   "source": [
    "borrower_dob_order_window = Window.partitionBy(\"Mortgage ID\").orderBy(\"Borrower DOB\")\n",
    "borrower_dob = borrower_dob.withColumn(\"Borrower sequence\", F.row_number().over(borrower_dob_order_window))\n",
    "borrower_dob.show()"
   ]
  },
  {
   "cell_type": "code",
   "execution_count": 21,
   "id": "458b79f9-7bc9-47e1-a282-532239656123",
   "metadata": {},
   "outputs": [
    {
     "name": "stdout",
     "output_type": "stream",
     "text": [
      "+-----------+-----------------+-------------------+------------+-----------------+\n",
      "|Mortgage ID|First Borrower ID|First Borrower Name|Borrower DOB|Borrower sequence|\n",
      "+-----------+-----------------+-------------------+------------+-----------------+\n",
      "|          1|                2|                AAA|  1900-01-01|                1|\n",
      "|          2|                3|                DDD|  1950-10-20|                1|\n",
      "+-----------+-----------------+-------------------+------------+-----------------+\n",
      "\n",
      "+-----------+------------------+--------------------+------------+-----------------+\n",
      "|Mortgage ID|Second Borrower ID|Second Borrower Name|Borrower DOB|Borrower sequence|\n",
      "+-----------+------------------+--------------------+------------+-----------------+\n",
      "|          1|                 1|                 BBB|  1900-05-01|                2|\n",
      "+-----------+------------------+--------------------+------------+-----------------+\n",
      "\n"
     ]
    }
   ],
   "source": [
    "group1=borrower_dob.where(F.col(\"Borrower sequence\") == 1)\n",
    "first_borrower_df=(\n",
    "     group1\n",
    "    .withColumnRenamed(\"Borrower ID\",\"First Borrower ID\") \n",
    "    .withColumnRenamed(\"Borrower Name\",\"First Borrower Name\")\n",
    ")\n",
    "\n",
    "group2=borrower_dob.where(F.col(\"Borrower sequence\")==2)\n",
    "\n",
    "secnd_borrower_df=(\n",
    "      group2\n",
    "     .withColumnRenamed(\"Borrower ID\",\"Second Borrower ID\") \n",
    "    .withColumnRenamed(\"Borrower Name\",\"Second Borrower Name\")\n",
    ")\n",
    "\n",
    "first_borrower_df.show()\n",
    "secnd_borrower_df.show()\n",
    "\n",
    "\n"
   ]
  },
  {
   "cell_type": "code",
   "execution_count": 22,
   "id": "d94c4c25-f780-4160-a67f-7b92e265aa12",
   "metadata": {},
   "outputs": [
    {
     "name": "stdout",
     "output_type": "stream",
     "text": [
      "+-----------+-----------------+-------------------+------------------+--------------------+\n",
      "|Mortgage ID|First Borrower ID|First Borrower Name|Second Borrower ID|Second Borrower Name|\n",
      "+-----------+-----------------+-------------------+------------------+--------------------+\n",
      "|          1|                2|                AAA|                 1|                 BBB|\n",
      "|          2|                3|                DDD|              NULL|                NULL|\n",
      "+-----------+-----------------+-------------------+------------------+--------------------+\n",
      "\n"
     ]
    }
   ],
   "source": [
    "joined=(\n",
    "    first_borrower_df\n",
    "    .join(secnd_borrower_df,\"Mortgage ID\",\"left\")\n",
    "    .select(\n",
    "        \"Mortgage ID\",\"First Borrower ID\",\"First Borrower Name\",\n",
    "        \"Second Borrower ID\",\"Second Borrower Name\"\n",
    "    )\n",
    ")\n",
    "joined.show()\n"
   ]
  }
 ],
 "metadata": {
  "kernelspec": {
   "display_name": "Python 3 (ipykernel)",
   "language": "python",
   "name": "python3"
  },
  "language_info": {
   "codemirror_mode": {
    "name": "ipython",
    "version": 3
   },
   "file_extension": ".py",
   "mimetype": "text/x-python",
   "name": "python",
   "nbconvert_exporter": "python",
   "pygments_lexer": "ipython3",
   "version": "3.11.6"
  }
 },
 "nbformat": 4,
 "nbformat_minor": 5
}
