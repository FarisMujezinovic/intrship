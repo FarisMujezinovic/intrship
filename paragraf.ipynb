{
 "cells": [
  {
   "cell_type": "markdown",
   "id": "d334e75a",
   "metadata": {},
   "source": [
    "Task is to find all pairs of words that co-occur within paragraphs, but count each pair at most once per paragraph."
   ]
  },
  {
   "cell_type": "code",
   "execution_count": 18,
   "id": "3311c793-1e1a-4b93-aa2c-237ab13e590d",
   "metadata": {},
   "outputs": [
    {
     "name": "stdout",
     "output_type": "stream",
     "text": [
      "+------+-------+---------------+--------------------+\n",
      "|Season|Episode|      Character|                Line|\n",
      "+------+-------+---------------+--------------------+\n",
      "|    10|      1|           Stan|You guys, you guy...|\n",
      "|    10|      1|           Kyle|Going away? For h...|\n",
      "|    10|      1|           Stan|            Forever.|\n",
      "|    10|      1|           Chef|     I'm sorry boys.|\n",
      "|    10|      1|           Stan|Chef said he's be...|\n",
      "|    10|      1|           Chef|                Wow!|\n",
      "|    10|      1|  Mrs. Garrison|Chef?? What kind ...|\n",
      "|    10|      1|           Chef|What's the meanin...|\n",
      "|    10|      1|  Mrs. Garrison|I hope you're mak...|\n",
      "|    10|      1|        Cartman|I'm gonna miss hi...|\n",
      "|    10|      1|           Stan|Dude, how are we ...|\n",
      "|    10|      1|Mayor McDaniels|And we will all m...|\n",
      "|    10|      1|          Jimbo|            Bye-bye!|\n",
      "|    10|      1|         Gerald|           Good-bye!|\n",
      "|    10|      1|     Mr. Mackey|            So long!|\n",
      "|    10|      1|          A Man|      So long, Chef!|\n",
      "|    10|      1|  A Sign-Holder|     Good-bye, Chef!|\n",
      "|    10|      1|          Randy|Good-bye, Chef! H...|\n",
      "|    10|      1|           Chef|        Good-bye! ..|\n",
      "|    10|      1|           Kyle|Draw two card, fa...|\n",
      "+------+-------+---------------+--------------------+\n",
      "only showing top 20 rows\n",
      "\n"
     ]
    }
   ],
   "source": [
    "from pyspark.sql import SparkSession\n",
    "import pyspark.sql.functions as F\n",
    "from pyspark.sql.window import Window as W\n",
    "\n",
    "spark=SparkSession.builder.getOrCreate()\n",
    "\n",
    "cartoon_with_filename = spark.read.csv(\"/home/jovyan/host/Desktop/All-seasons.csv\",inferSchema=True,header=True)\n",
    "cartoon_df = cartoon_with_filename.dropna()\n",
    "\n",
    "cartoon_df.show()"
   ]
  },
  {
   "cell_type": "code",
   "execution_count": 19,
   "id": "1c644b8f-339f-4346-a6d4-b263488dce51",
   "metadata": {},
   "outputs": [
    {
     "name": "stdout",
     "output_type": "stream",
     "text": [
      "+------+-------+---------------+--------------------+------------+\n",
      "|Season|Episode|      Character|                Line|    Filename|\n",
      "+------+-------+---------------+--------------------+------------+\n",
      "|    10|      1|           Stan|You guys, you guy...|Dialogue.csv|\n",
      "|    10|      1|           Kyle|Going away? For h...|Dialogue.csv|\n",
      "|    10|      1|           Stan|            Forever.|Dialogue.csv|\n",
      "|    10|      1|           Chef|     I'm sorry boys.|Dialogue.csv|\n",
      "|    10|      1|           Stan|Chef said he's be...|Dialogue.csv|\n",
      "|    10|      1|           Chef|                Wow!|Dialogue.csv|\n",
      "|    10|      1|  Mrs. Garrison|Chef?? What kind ...|Dialogue.csv|\n",
      "|    10|      1|           Chef|What's the meanin...|Dialogue.csv|\n",
      "|    10|      1|  Mrs. Garrison|I hope you're mak...|Dialogue.csv|\n",
      "|    10|      1|        Cartman|I'm gonna miss hi...|Dialogue.csv|\n",
      "|    10|      1|           Stan|Dude, how are we ...|Dialogue.csv|\n",
      "|    10|      1|Mayor McDaniels|And we will all m...|Dialogue.csv|\n",
      "|    10|      1|          Jimbo|            Bye-bye!|Dialogue.csv|\n",
      "|    10|      1|         Gerald|           Good-bye!|Dialogue.csv|\n",
      "|    10|      1|     Mr. Mackey|            So long!|Dialogue.csv|\n",
      "|    10|      1|          A Man|      So long, Chef!|Dialogue.csv|\n",
      "|    10|      1|  A Sign-Holder|     Good-bye, Chef!|Dialogue.csv|\n",
      "|    10|      1|          Randy|Good-bye, Chef! H...|Dialogue.csv|\n",
      "|    10|      1|           Chef|        Good-bye! ..|Dialogue.csv|\n",
      "|    10|      1|           Kyle|Draw two card, fa...|Dialogue.csv|\n",
      "+------+-------+---------------+--------------------+------------+\n",
      "only showing top 20 rows\n",
      "\n"
     ]
    }
   ],
   "source": [
    "filename=(\n",
    "    cartoon_df\n",
    "    .withColumn(\"Filename\",\n",
    "F.lit(\"Dialogue.csv\")))\n",
    "filename.show()\n",
    "                           "
   ]
  },
  {
   "cell_type": "code",
   "execution_count": 20,
   "id": "685b38db-27a8-4aa9-8546-053880c93373",
   "metadata": {},
   "outputs": [
    {
     "name": "stdout",
     "output_type": "stream",
     "text": [
      "+------------+-----------------------------------------------------------------------------------------+\n",
      "|Filename    |Line                                                                                     |\n",
      "+------------+-----------------------------------------------------------------------------------------+\n",
      "|Dialogue.csv|You guys, you guys! Chef is going away.                                                  |\n",
      "|Dialogue.csv|Going away? For how long?                                                                |\n",
      "|Dialogue.csv|Forever.                                                                                 |\n",
      "|Dialogue.csv|I'm sorry boys.                                                                          |\n",
      "|Dialogue.csv|Chef said he's been bored, so he joining a group called the Super Adventure Club.        |\n",
      "|Dialogue.csv|Wow!                                                                                     |\n",
      "|Dialogue.csv|Chef?? What kind of questions do you think adventuring around the world is gonna answer?!|\n",
      "|Dialogue.csv|What's the meaning of life? Why are we here?                                             |\n",
      "|Dialogue.csv|I hope you're making the right choice.                                                   |\n",
      "|Dialogue.csv|I'm gonna miss him.  I'm gonna miss Chef and I...and I don't know how to tell him!       |\n",
      "|Dialogue.csv|Dude, how are we gonna go on? Chef was our fuh...f-ffriend.                              |\n",
      "|Dialogue.csv|And we will all miss you, Chef,  but we know you must do what your heart tells you..     |\n",
      "|Dialogue.csv|Bye-bye!                                                                                 |\n",
      "|Dialogue.csv|Good-bye!                                                                                |\n",
      "|Dialogue.csv|So long!                                                                                 |\n",
      "|Dialogue.csv|So long, Chef!                                                                           |\n",
      "|Dialogue.csv|Good-bye, Chef!                                                                          |\n",
      "|Dialogue.csv|Good-bye, Chef! Have a great time with the Super Adventure Club!                         |\n",
      "|Dialogue.csv|Good-bye! ..                                                                             |\n",
      "|Dialogue.csv|Draw two card, fatass.                                                                   |\n",
      "+------------+-----------------------------------------------------------------------------------------+\n",
      "only showing top 20 rows\n",
      "\n"
     ]
    }
   ],
   "source": [
    "file_df=filename.select(\"Filename\",\"Line\")\n",
    "file_df.show(truncate=False)"
   ]
  },
  {
   "cell_type": "code",
   "execution_count": 21,
   "id": "d5a20d14-196b-4c5c-803c-e6bcda10461a",
   "metadata": {},
   "outputs": [
    {
     "name": "stdout",
     "output_type": "stream",
     "text": [
      "+------------+--------------------+-------+\n",
      "|    Filename|                Line|Section|\n",
      "+------------+--------------------+-------+\n",
      "|Dialogue.csv|You guys, you guy...|      1|\n",
      "|Dialogue.csv|Going away? For h...|      2|\n",
      "|Dialogue.csv|            Forever.|      3|\n",
      "|Dialogue.csv|     I'm sorry boys.|      4|\n",
      "|Dialogue.csv|Chef said he's be...|      5|\n",
      "|Dialogue.csv|                Wow!|      6|\n",
      "|Dialogue.csv|Chef?? What kind ...|      7|\n",
      "|Dialogue.csv|What's the meanin...|      8|\n",
      "|Dialogue.csv|I hope you're mak...|      9|\n",
      "|Dialogue.csv|I'm gonna miss hi...|     10|\n",
      "|Dialogue.csv|Dude, how are we ...|     11|\n",
      "|Dialogue.csv|And we will all m...|     12|\n",
      "|Dialogue.csv|            Bye-bye!|     13|\n",
      "|Dialogue.csv|           Good-bye!|     14|\n",
      "|Dialogue.csv|            So long!|     15|\n",
      "|Dialogue.csv|      So long, Chef!|     16|\n",
      "|Dialogue.csv|     Good-bye, Chef!|     17|\n",
      "|Dialogue.csv|Good-bye, Chef! H...|     18|\n",
      "|Dialogue.csv|        Good-bye! ..|     19|\n",
      "|Dialogue.csv|Draw two card, fa...|     20|\n",
      "+------------+--------------------+-------+\n",
      "only showing top 20 rows\n",
      "\n"
     ]
    }
   ],
   "source": [
    "section=(\n",
    "    W\n",
    "    .orderBy(\"Filename\")\n",
    ")\n",
    "\n",
    "southpark_df=(\n",
    "    file_df\n",
    "    .withColumn(\"Section\",F.row_number()\n",
    "                .over(section))\n",
    ")\n",
    "southpark_df.show()\n",
    "                            "
   ]
  },
  {
   "cell_type": "code",
   "execution_count": 33,
   "id": "7f6ca43c-3ccf-4cd5-9dba-2f3a4bb02cea",
   "metadata": {},
   "outputs": [
    {
     "name": "stdout",
     "output_type": "stream",
     "text": [
      "+------------+--------------------+-------+---------------+\n",
      "|    Filename|                Line|Section|Separated words|\n",
      "+------------+--------------------+-------+---------------+\n",
      "|Dialogue.csv|You guys, you guy...|      1|            You|\n",
      "|Dialogue.csv|You guys, you guy...|      1|           guys|\n",
      "|Dialogue.csv|You guys, you guy...|      1|            you|\n",
      "|Dialogue.csv|You guys, you guy...|      1|           guys|\n",
      "|Dialogue.csv|You guys, you guy...|      1|           Chef|\n",
      "|Dialogue.csv|You guys, you guy...|      1|             is|\n",
      "|Dialogue.csv|You guys, you guy...|      1|          going|\n",
      "|Dialogue.csv|You guys, you guy...|      1|           away|\n",
      "|Dialogue.csv|You guys, you guy...|      1|               |\n",
      "|Dialogue.csv|Going away? For h...|      2|          Going|\n",
      "|Dialogue.csv|Going away? For h...|      2|           away|\n",
      "|Dialogue.csv|Going away? For h...|      2|            For|\n",
      "|Dialogue.csv|Going away? For h...|      2|            how|\n",
      "|Dialogue.csv|Going away? For h...|      2|           long|\n",
      "|Dialogue.csv|Going away? For h...|      2|               |\n",
      "|Dialogue.csv|            Forever.|      3|        Forever|\n",
      "|Dialogue.csv|            Forever.|      3|               |\n",
      "|Dialogue.csv|     I'm sorry boys.|      4|              I|\n",
      "|Dialogue.csv|     I'm sorry boys.|      4|              m|\n",
      "|Dialogue.csv|     I'm sorry boys.|      4|          sorry|\n",
      "+------------+--------------------+-------+---------------+\n",
      "only showing top 20 rows\n",
      "\n"
     ]
    }
   ],
   "source": [
    "separated=southpark_df.withColumn(\"Separated words\", F.explode(F.split(F.col(\"Line\"),r'\\W+')))\n",
    "separated.show()"
   ]
  },
  {
   "cell_type": "code",
   "execution_count": 41,
   "id": "a6609e55-8893-4923-b268-11b11ed356ff",
   "metadata": {},
   "outputs": [
    {
     "name": "stdout",
     "output_type": "stream",
     "text": [
      "+------------+--------------------+-------+---------------+\n",
      "|    Filename|                Line|Section|Separated words|\n",
      "+------------+--------------------+-------+---------------+\n",
      "|Dialogue.csv|You guys, you guy...|      1|            You|\n",
      "|Dialogue.csv|You guys, you guy...|      1|           guys|\n",
      "|Dialogue.csv|You guys, you guy...|      1|            you|\n",
      "|Dialogue.csv|You guys, you guy...|      1|           guys|\n",
      "|Dialogue.csv|You guys, you guy...|      1|           Chef|\n",
      "|Dialogue.csv|You guys, you guy...|      1|             is|\n",
      "|Dialogue.csv|You guys, you guy...|      1|          going|\n",
      "|Dialogue.csv|You guys, you guy...|      1|           away|\n",
      "|Dialogue.csv|Going away? For h...|      2|          Going|\n",
      "|Dialogue.csv|Going away? For h...|      2|           away|\n",
      "|Dialogue.csv|Going away? For h...|      2|            For|\n",
      "|Dialogue.csv|Going away? For h...|      2|            how|\n",
      "|Dialogue.csv|Going away? For h...|      2|           long|\n",
      "|Dialogue.csv|            Forever.|      3|        Forever|\n",
      "|Dialogue.csv|     I'm sorry boys.|      4|              I|\n",
      "|Dialogue.csv|     I'm sorry boys.|      4|              m|\n",
      "|Dialogue.csv|     I'm sorry boys.|      4|          sorry|\n",
      "|Dialogue.csv|     I'm sorry boys.|      4|           boys|\n",
      "|Dialogue.csv|Chef said he's be...|      5|           Chef|\n",
      "|Dialogue.csv|Chef said he's be...|      5|           said|\n",
      "+------------+--------------------+-------+---------------+\n",
      "only showing top 20 rows\n",
      "\n"
     ]
    }
   ],
   "source": [
    "cartoon=(\n",
    "    separated\n",
    "    .filter(F.col(\"Separated words\")!=\"\")\n",
    ")\n",
    "cartoon.show()"
   ]
  },
  {
   "cell_type": "code",
   "execution_count": 53,
   "id": "f01ba5e0-35c1-44c6-9aaa-c28545d10acf",
   "metadata": {},
   "outputs": [],
   "source": [
    "orders=(\n",
    "    W\n",
    "    .partitionBy(\"Section\")\n",
    "    .orderBy(\"Section\")\n",
    ")\n"
   ]
  },
  {
   "cell_type": "code",
   "execution_count": 54,
   "id": "5ba738c9-0bb4-4684-8e5c-634be86d89a0",
   "metadata": {},
   "outputs": [
    {
     "name": "stdout",
     "output_type": "stream",
     "text": [
      "+------------+--------------------+-------+---------------+-----------+------------------+\n",
      "|    Filename|                Line|Section|Separated words|  Prev_word|             Pairs|\n",
      "+------------+--------------------+-------+---------------+-----------+------------------+\n",
      "|Dialogue.csv|You guys, you guy...|      1|             is|       Chef|           Chef is|\n",
      "|Dialogue.csv|You guys, you guy...|      1|          going|         is|          is going|\n",
      "|Dialogue.csv|You guys, you guy...|      1|           away|      going|        going away|\n",
      "|Dialogue.csv|Chef said he's be...|      5|          bored|       been|        been bored|\n",
      "|Dialogue.csv|Chef said he's be...|      5|             so|      bored|          bored so|\n",
      "|Dialogue.csv|Chef said he's be...|      5|             he|         so|             so he|\n",
      "|Dialogue.csv|Chef said he's be...|      5|        joining|         he|        he joining|\n",
      "|Dialogue.csv|Chef said he's be...|      5|              a|    joining|         joining a|\n",
      "|Dialogue.csv|Chef said he's be...|      5|          group|          a|           a group|\n",
      "|Dialogue.csv|Chef said he's be...|      5|         called|      group|      group called|\n",
      "|Dialogue.csv|Chef said he's be...|      5|            the|     called|        called the|\n",
      "|Dialogue.csv|Chef said he's be...|      5|          Super|        the|         the Super|\n",
      "|Dialogue.csv|Chef said he's be...|      5|      Adventure|      Super|   Super Adventure|\n",
      "|Dialogue.csv|Chef said he's be...|      5|           Club|  Adventure|    Adventure Club|\n",
      "|Dialogue.csv|Chef?? What kind ...|      7|             do|  questions|      questions do|\n",
      "|Dialogue.csv|Chef?? What kind ...|      7|            you|         do|            do you|\n",
      "|Dialogue.csv|Chef?? What kind ...|      7|          think|        you|         you think|\n",
      "|Dialogue.csv|Chef?? What kind ...|      7|    adventuring|      think| think adventuring|\n",
      "|Dialogue.csv|Chef?? What kind ...|      7|         around|adventuring|adventuring around|\n",
      "|Dialogue.csv|Chef?? What kind ...|      7|            the|     around|        around the|\n",
      "+------------+--------------------+-------+---------------+-----------+------------------+\n",
      "only showing top 20 rows\n",
      "\n"
     ]
    }
   ],
   "source": [
    "cartoon=(\n",
    "    cartoon_df\n",
    "    .withColumn(\"Prev_word\",F.lag(\"Separated words\")\n",
    "                .over(orders))\n",
    "    .filter(F.col(\"Prev_word\").isNotNull())\n",
    "    .withColumn(\"Pairs\",F.concat_ws(\" \",F.col(\"Prev_word\"),F.col(\"Separated words\")))\n",
    "\n",
    "\n",
    ")\n",
    "cartoon.select(\"Section\",\"Separated words\",\"Prev_word\",\"Pairs\")\n",
    "cartoon.show()"
   ]
  },
  {
   "cell_type": "code",
   "execution_count": 55,
   "id": "d2b12eff-f988-4e9e-b076-15cc90fa4037",
   "metadata": {},
   "outputs": [
    {
     "name": "stdout",
     "output_type": "stream",
     "text": [
      "+------------+-------+------------------+\n",
      "|    Filename|Section|             Pairs|\n",
      "+------------+-------+------------------+\n",
      "|Dialogue.csv|      1|           Chef is|\n",
      "|Dialogue.csv|      1|          is going|\n",
      "|Dialogue.csv|      1|        going away|\n",
      "|Dialogue.csv|      5|        been bored|\n",
      "|Dialogue.csv|      5|          bored so|\n",
      "|Dialogue.csv|      5|             so he|\n",
      "|Dialogue.csv|      5|        he joining|\n",
      "|Dialogue.csv|      5|         joining a|\n",
      "|Dialogue.csv|      5|           a group|\n",
      "|Dialogue.csv|      5|      group called|\n",
      "|Dialogue.csv|      5|        called the|\n",
      "|Dialogue.csv|      5|         the Super|\n",
      "|Dialogue.csv|      5|   Super Adventure|\n",
      "|Dialogue.csv|      5|    Adventure Club|\n",
      "|Dialogue.csv|      7|      questions do|\n",
      "|Dialogue.csv|      7|            do you|\n",
      "|Dialogue.csv|      7|         you think|\n",
      "|Dialogue.csv|      7| think adventuring|\n",
      "|Dialogue.csv|      7|adventuring around|\n",
      "|Dialogue.csv|      7|        around the|\n",
      "+------------+-------+------------------+\n",
      "only showing top 20 rows\n",
      "\n"
     ]
    }
   ],
   "source": [
    "final=cartoon.select(\"Filename\",\"Section\",\"Pairs\")\n",
    "final.show()"
   ]
  },
  {
   "cell_type": "code",
   "execution_count": 56,
   "id": "3657c3ce-30bf-439b-b6b6-fd60b00c3b99",
   "metadata": {},
   "outputs": [
    {
     "name": "stdout",
     "output_type": "stream",
     "text": [
      "+---------+------------+\n",
      "|ConceptID|ConceptValue|\n",
      "+---------+------------+\n",
      "|        1|Mrs Garrison|\n",
      "|        2|        Kyle|\n",
      "|        3|   Mr Mackey|\n",
      "|        4|       Randy|\n",
      "|        5|        Stan|\n",
      "+---------+------------+\n",
      "\n"
     ]
    }
   ],
   "source": [
    "data_conc=(\n",
    "    (\"1\",\"Mrs Garrison\"),\n",
    "    (\"2\",\"Kyle\"),\n",
    "    (\"3\",\"Mr Mackey\"),\n",
    "    (\"4\",\"Randy\"),\n",
    "    (\"5\",\"Stan\"),\n",
    ")\n",
    "columns=[\"ConceptID\",\"ConceptValue\"]\n",
    "df_koncepti=spark.createDataFrame(data=data_conc,schema=columns)\n",
    "df_koncepti.show()"
   ]
  },
  {
   "cell_type": "code",
   "execution_count": 59,
   "id": "3a5a8a51-037a-4424-8122-b9ab436b554c",
   "metadata": {},
   "outputs": [
    {
     "name": "stdout",
     "output_type": "stream",
     "text": [
      "+------------+-------+---------------+---------+------------+\n",
      "|Filename    |Section|Pairs          |ConceptID|ConceptValue|\n",
      "+------------+-------+---------------+---------+------------+\n",
      "|Dialogue.csv|74     |rectum Kyle    |2        |Kyle        |\n",
      "|Dialogue.csv|101    |asshole Kyle   |2        |Kyle        |\n",
      "|Dialogue.csv|292    |ticket Kyle    |2        |Kyle        |\n",
      "|Dialogue.csv|317    |on Kyle        |2        |Kyle        |\n",
      "|Dialogue.csv|317    |Kyle I         |2        |Kyle        |\n",
      "|Dialogue.csv|334    |for Kyle       |2        |Kyle        |\n",
      "|Dialogue.csv|336    |know Kyle      |2        |Kyle        |\n",
      "|Dialogue.csv|336    |Kyle s         |2        |Kyle        |\n",
      "|Dialogue.csv|345    |invite Kyle    |2        |Kyle        |\n",
      "|Dialogue.csv|350    |Goodbye Kyle   |2        |Kyle        |\n",
      "|Dialogue.csv|358    |difference Stan|5        |Stan        |\n",
      "|Dialogue.csv|358    |Stan Maybe     |5        |Stan        |\n",
      "|Dialogue.csv|383    |getting Kyle   |2        |Kyle        |\n",
      "|Dialogue.csv|383    |Kyle back      |2        |Kyle        |\n",
      "|Dialogue.csv|384    |Kyle back      |2        |Kyle        |\n",
      "|Dialogue.csv|385    |withuot Kyle   |2        |Kyle        |\n",
      "|Dialogue.csv|385    |Kyle around    |2        |Kyle        |\n",
      "|Dialogue.csv|386    |need Kyle      |2        |Kyle        |\n",
      "|Dialogue.csv|386    |Kyle to        |2        |Kyle        |\n",
      "|Dialogue.csv|389    |is Stan        |5        |Stan        |\n",
      "+------------+-------+---------------+---------+------------+\n",
      "only showing top 20 rows\n",
      "\n"
     ]
    }
   ],
   "source": [
    "df_filter=(\n",
    "    final\n",
    "    .join(df_koncepti,F.col(\"Pairs\")\n",
    "          .contains(F.col(\"Conceptvalue\")),\"Inner\")\n",
    ")\n",
    "df_filter.orderBy(\"Section\").show(truncate=False)"
   ]
  },
  {
   "cell_type": "code",
   "execution_count": 58,
   "id": "84b3fe63-bdc9-4c99-820e-4a8d2d36363f",
   "metadata": {},
   "outputs": [
    {
     "name": "stdout",
     "output_type": "stream",
     "text": [
      "+------------+----+\n",
      "|ConceptValue|Freq|\n",
      "+------------+----+\n",
      "|Mrs Garrison|   6|\n",
      "|        Kyle|1692|\n",
      "|   Mr Mackey|  32|\n",
      "|       Randy| 152|\n",
      "|        Stan|1225|\n",
      "+------------+----+\n",
      "\n"
     ]
    }
   ],
   "source": [
    "df_counts=df_filter.groupBy(\"ConceptValue\").agg(F.count(\"*\").alias(\"Freq\"))\n",
    "df_counts.show()"
   ]
  },
  {
   "cell_type": "code",
   "execution_count": null,
   "id": "4b3f4d1a-c527-43d9-b4e6-527be198df4f",
   "metadata": {},
   "outputs": [],
   "source": []
  }
 ],
 "metadata": {
  "kernelspec": {
   "display_name": "Python 3 (ipykernel)",
   "language": "python",
   "name": "python3"
  },
  "language_info": {
   "codemirror_mode": {
    "name": "ipython",
    "version": 3
   },
   "file_extension": ".py",
   "mimetype": "text/x-python",
   "name": "python",
   "nbconvert_exporter": "python",
   "pygments_lexer": "ipython3",
   "version": "3.11.6"
  }
 },
 "nbformat": 4,
 "nbformat_minor": 5
}
